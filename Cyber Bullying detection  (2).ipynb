{
 "cells": [
  {
   "cell_type": "code",
   "execution_count": 6,
   "id": "0e38a8fa-78d8-4802-af90-c4046c5906b8",
   "metadata": {},
   "outputs": [],
   "source": [
    "import pandas as pd\n",
    "import numpy as np\n",
    "import matplotlib.pyplot as plt\n",
    "import seaborn as sns\n",
    "plt.style.use(\"ggplot\")\n",
    "\n",
    "import re\n",
    "import nltk\n",
    "\n",
    "from sklearn.feature_extraction.text import  TfidfVectorizer,TfidfTransformer,CountVectorizer\n",
    "from nltk import sent_tokenize,word_tokenize\n",
    "from sklearn.metrics import f1_score,accuracy_score,precision_score,recall_score,make_scorer\n",
    "\n",
    "from time import time\n",
    "import pickle\n"
   ]
  },
  {
   "cell_type": "code",
   "execution_count": 7,
   "id": "5f1e566d-a641-4821-9505-838a78f0d0fb",
   "metadata": {},
   "outputs": [],
   "source": [
    "df = pd.read_csv(r\"D:\\resume_project\\Bullying\\Bullying.csv\")\n"
   ]
  },
  {
   "cell_type": "code",
   "execution_count": 8,
   "id": "5f8ad665-55e5-41f3-a90e-d66528fdf484",
   "metadata": {},
   "outputs": [
    {
     "data": {
      "text/html": [
       "<div>\n",
       "<style scoped>\n",
       "    .dataframe tbody tr th:only-of-type {\n",
       "        vertical-align: middle;\n",
       "    }\n",
       "\n",
       "    .dataframe tbody tr th {\n",
       "        vertical-align: top;\n",
       "    }\n",
       "\n",
       "    .dataframe thead th {\n",
       "        text-align: right;\n",
       "    }\n",
       "</style>\n",
       "<table border=\"1\" class=\"dataframe\">\n",
       "  <thead>\n",
       "    <tr style=\"text-align: right;\">\n",
       "      <th></th>\n",
       "      <th>headline</th>\n",
       "      <th>label</th>\n",
       "    </tr>\n",
       "  </thead>\n",
       "  <tbody>\n",
       "    <tr>\n",
       "      <th>0</th>\n",
       "      <td>cock  suck before you piss around on my work</td>\n",
       "      <td>-1</td>\n",
       "    </tr>\n",
       "    <tr>\n",
       "      <th>1</th>\n",
       "      <td>you are  gay or antisemmitian archangel white ...</td>\n",
       "      <td>-1</td>\n",
       "    </tr>\n",
       "    <tr>\n",
       "      <th>2</th>\n",
       "      <td>fuck your filthy mother in the ass  dry</td>\n",
       "      <td>-1</td>\n",
       "    </tr>\n",
       "    <tr>\n",
       "      <th>3</th>\n",
       "      <td>get fuck  ed up  get fuck  ed up got a drink t...</td>\n",
       "      <td>-1</td>\n",
       "    </tr>\n",
       "    <tr>\n",
       "      <th>4</th>\n",
       "      <td>stupid peace of  shit  stop deleting my stuff ...</td>\n",
       "      <td>-1</td>\n",
       "    </tr>\n",
       "  </tbody>\n",
       "</table>\n",
       "</div>"
      ],
      "text/plain": [
       "                                            headline  label\n",
       "0       cock  suck before you piss around on my work     -1\n",
       "1  you are  gay or antisemmitian archangel white ...     -1\n",
       "2            fuck your filthy mother in the ass  dry     -1\n",
       "3  get fuck  ed up  get fuck  ed up got a drink t...     -1\n",
       "4  stupid peace of  shit  stop deleting my stuff ...     -1"
      ]
     },
     "execution_count": 8,
     "metadata": {},
     "output_type": "execute_result"
    }
   ],
   "source": [
    "df.head()"
   ]
  },
  {
   "cell_type": "code",
   "execution_count": 9,
   "id": "69df1155-59e2-4cc8-b7ad-570334033946",
   "metadata": {},
   "outputs": [
    {
     "data": {
      "text/plain": [
       "array([-1,  0], dtype=int64)"
      ]
     },
     "execution_count": 9,
     "metadata": {},
     "output_type": "execute_result"
    }
   ],
   "source": [
    "df[\"label\"].unique()"
   ]
  },
  {
   "cell_type": "markdown",
   "id": "177bc5fe-76fa-477d-b162-c39398b70608",
   "metadata": {},
   "source": [
    "### Dataframe Manipulation"
   ]
  },
  {
   "cell_type": "code",
   "execution_count": 11,
   "id": "5200ef2b-760b-4a47-8cb0-33ca150befe9",
   "metadata": {},
   "outputs": [],
   "source": [
    "def perform_data_manipulation():\n",
    "    df = pd.read_csv(r\"D:\\resume_project\\Bullying\\Bullying.csv\")\n",
    "\n",
    "    for index in df.index:\n",
    "        if df.loc[index,\"label\"]==-1:\n",
    "            df.loc[index,\"label\"] = 1\n",
    "    return df\n",
    "            \n",
    "    "
   ]
  },
  {
   "cell_type": "code",
   "execution_count": 12,
   "id": "9a065f02-0115-4bd3-b9ac-380bc8ef14f8",
   "metadata": {},
   "outputs": [],
   "source": [
    "df = perform_data_manipulation()"
   ]
  },
  {
   "cell_type": "code",
   "execution_count": 13,
   "id": "5d34aa6b-ec6c-4039-9af5-ae9dff2de96e",
   "metadata": {},
   "outputs": [
    {
     "data": {
      "text/html": [
       "<div>\n",
       "<style scoped>\n",
       "    .dataframe tbody tr th:only-of-type {\n",
       "        vertical-align: middle;\n",
       "    }\n",
       "\n",
       "    .dataframe tbody tr th {\n",
       "        vertical-align: top;\n",
       "    }\n",
       "\n",
       "    .dataframe thead th {\n",
       "        text-align: right;\n",
       "    }\n",
       "</style>\n",
       "<table border=\"1\" class=\"dataframe\">\n",
       "  <thead>\n",
       "    <tr style=\"text-align: right;\">\n",
       "      <th></th>\n",
       "      <th>headline</th>\n",
       "      <th>label</th>\n",
       "    </tr>\n",
       "  </thead>\n",
       "  <tbody>\n",
       "    <tr>\n",
       "      <th>0</th>\n",
       "      <td>cock  suck before you piss around on my work</td>\n",
       "      <td>1</td>\n",
       "    </tr>\n",
       "    <tr>\n",
       "      <th>1</th>\n",
       "      <td>you are  gay or antisemmitian archangel white ...</td>\n",
       "      <td>1</td>\n",
       "    </tr>\n",
       "    <tr>\n",
       "      <th>2</th>\n",
       "      <td>fuck your filthy mother in the ass  dry</td>\n",
       "      <td>1</td>\n",
       "    </tr>\n",
       "    <tr>\n",
       "      <th>3</th>\n",
       "      <td>get fuck  ed up  get fuck  ed up got a drink t...</td>\n",
       "      <td>1</td>\n",
       "    </tr>\n",
       "    <tr>\n",
       "      <th>4</th>\n",
       "      <td>stupid peace of  shit  stop deleting my stuff ...</td>\n",
       "      <td>1</td>\n",
       "    </tr>\n",
       "  </tbody>\n",
       "</table>\n",
       "</div>"
      ],
      "text/plain": [
       "                                            headline  label\n",
       "0       cock  suck before you piss around on my work      1\n",
       "1  you are  gay or antisemmitian archangel white ...      1\n",
       "2            fuck your filthy mother in the ass  dry      1\n",
       "3  get fuck  ed up  get fuck  ed up got a drink t...      1\n",
       "4  stupid peace of  shit  stop deleting my stuff ...      1"
      ]
     },
     "execution_count": 13,
     "metadata": {},
     "output_type": "execute_result"
    }
   ],
   "source": [
    "df.head()"
   ]
  },
  {
   "cell_type": "code",
   "execution_count": 14,
   "id": "8bdaa074-2efb-4049-b6c8-9b414dd647a7",
   "metadata": {},
   "outputs": [
    {
     "data": {
      "text/plain": [
       "array([1, 0], dtype=int64)"
      ]
     },
     "execution_count": 14,
     "metadata": {},
     "output_type": "execute_result"
    }
   ],
   "source": [
    "df[\"label\"].unique()"
   ]
  },
  {
   "cell_type": "code",
   "execution_count": 15,
   "id": "613d2e27-c203-4a7d-86ae-eeffd5a36bce",
   "metadata": {},
   "outputs": [
    {
     "data": {
      "text/plain": [
       "(18148, 2)"
      ]
     },
     "execution_count": 15,
     "metadata": {},
     "output_type": "execute_result"
    }
   ],
   "source": [
    "df.shape"
   ]
  },
  {
   "cell_type": "markdown",
   "id": "6c145529-4edd-44ce-b43c-7d3c3cd5a0dc",
   "metadata": {},
   "source": [
    "### Classification using Pie chart"
   ]
  },
  {
   "cell_type": "code",
   "execution_count": 17,
   "id": "8d992c67-d645-4751-be39-76485a0a5992",
   "metadata": {},
   "outputs": [],
   "source": [
    "def perform_data_distribution(df):\n",
    "    total = df.shape[0]\n",
    "    num_non_toxic = df[df[\"label\"]==0].shape[0]\n",
    "\n",
    "    slices = [num_non_toxic/total,(total - num_non_toxic)/total]\n",
    "    labeling = [\"Non_Toxic\",\"Toxic\"]\n",
    "    explode = [0.2,0]\n",
    "    plt.pie(slices,explode = explode,shadow= True,autopct=\"%1.1f%%\",labels= labeling,wedgeprops={'edgecolor':'black'})\n",
    "    plt.title(\"Number of Toxic vs Non-Toxic test Sample\")\n",
    "    plt.tight_layout()\n",
    "    plt.show()"
   ]
  },
  {
   "cell_type": "code",
   "execution_count": 18,
   "id": "aea3c9da-2efc-483e-b45f-4691ce93bb2e",
   "metadata": {},
   "outputs": [
    {
     "data": {
      "image/png": "[encoded data removed]",
      "text/plain": [
       "<Figure size 640x480 with 1 Axes>"
      ]
     },
     "metadata": {},
     "output_type": "display_data"
    }
   ],
   "source": [
    "perform_data_distribution(df)"
   ]
  },
  {
   "cell_type": "code",
   "execution_count": 19,
   "id": "4111256a-093d-43a1-bdaf-422bc7ba7a79",
   "metadata": {},
   "outputs": [],
   "source": [
    "def remove_pattern(input_txt,pattern):\n",
    "    if (type(input_txt)==str):\n",
    "        r= re.findall(pattern,input_txt)\n",
    "        for i in r:\n",
    "            input_txt= re.sub(i,'',input_txt)\n",
    "        return input_txt\n",
    "    else:\n",
    "         return \"\""
   ]
  },
  {
   "cell_type": "code",
   "execution_count": 20,
   "id": "1139d155-0aed-4694-b69f-4c7477c3a5a6",
   "metadata": {},
   "outputs": [
    {
     "data": {
      "text/html": [
       "<div>\n",
       "<style scoped>\n",
       "    .dataframe tbody tr th:only-of-type {\n",
       "        vertical-align: middle;\n",
       "    }\n",
       "\n",
       "    .dataframe tbody tr th {\n",
       "        vertical-align: top;\n",
       "    }\n",
       "\n",
       "    .dataframe thead th {\n",
       "        text-align: right;\n",
       "    }\n",
       "</style>\n",
       "<table border=\"1\" class=\"dataframe\">\n",
       "  <thead>\n",
       "    <tr style=\"text-align: right;\">\n",
       "      <th></th>\n",
       "      <th>headline</th>\n",
       "      <th>label</th>\n",
       "    </tr>\n",
       "  </thead>\n",
       "  <tbody>\n",
       "    <tr>\n",
       "      <th>0</th>\n",
       "      <td>cock  suck before you piss around on my work</td>\n",
       "      <td>1</td>\n",
       "    </tr>\n",
       "  </tbody>\n",
       "</table>\n",
       "</div>"
      ],
      "text/plain": [
       "                                       headline  label\n",
       "0  cock  suck before you piss around on my work      1"
      ]
     },
     "execution_count": 20,
     "metadata": {},
     "output_type": "execute_result"
    }
   ],
   "source": [
    "df.head(1)"
   ]
  },
  {
   "cell_type": "code",
   "execution_count": 21,
   "id": "6eada32f-49b0-4d35-98fc-a35260932186",
   "metadata": {},
   "outputs": [
    {
     "name": "stderr",
     "output_type": "stream",
     "text": [
      "<>:5: SyntaxWarning: invalid escape sequence '\\w'\n",
      "<>:5: SyntaxWarning: invalid escape sequence '\\w'\n",
      "C:\\Users\\Shrinivass\\AppData\\Local\\Temp\\ipykernel_1416\\1317324887.py:5: SyntaxWarning: invalid escape sequence '\\w'\n",
      "  combined_df[\"tidy tweet\"] = np.vectorize(remove_pattern)(combined_df[\"headline\"],\"@[\\w]*\")\n"
     ]
    }
   ],
   "source": [
    "def datasetCleaning(df):\n",
    "    df[\"length_headline\"] = df[\"headline\"].str.len()\n",
    "    combined_df = pd.concat([df, df], ignore_index=True)\n",
    "    # remove @ user\n",
    "    combined_df[\"tidy tweet\"] = np.vectorize(remove_pattern)(combined_df[\"headline\"],\"@[\\w]*\")\n",
    "    # remove extra letters\n",
    "    combined_df[\"tidy tweet\"] = combined_df[\"tidy tweet\"].str.replace(\"[^a-zA-Z#]\", \" \")\n",
    "    # remove all those words with size less than 3\n",
    "    combined_df[\"tidy tweet\"]=combined_df[\"tidy tweet\"].apply(lambda x:' '.join([w for w in x.split() if len(w)>3]))\n",
    "\n",
    "    combined_df[\"length_tidy tweet\"] = combined_df[\"tidy tweet\"].str.len()\n",
    "    # Tokenized\n",
    "    tokenized_tweet = combined_df[\"tidy tweet\"].apply(lambda x :  x.split())\n",
    "\n",
    "    nltk.download(\"wordnet\")\n",
    "    lemmatizer = nltk.stem.WordNetLemmatizer()\n",
    "    tokenized_tweet = tokenized_tweet.apply(lambda x:[lemmatizer.lemmatize(i) for i in x])\n",
    "\n",
    "    for i in range(len(tokenized_tweet)):\n",
    "        tokenized_tweet[i] = ' '.join(tokenized_tweet[i])\n",
    "    combined_df[\"tidy_tweet\"] = tokenized_tweet\n",
    "\n",
    "    return combined_df,df"
   ]
  },
  {
   "cell_type": "code",
   "execution_count": 22,
   "id": "3a8981c7-d220-48a7-befc-0da2bc066aeb",
   "metadata": {},
   "outputs": [
    {
     "name": "stderr",
     "output_type": "stream",
     "text": [
      "[nltk_data] Downloading package wordnet to\n",
      "[nltk_data]     C:\\Users\\Shrinivass\\AppData\\Roaming\\nltk_data...\n",
      "[nltk_data]   Package wordnet is already up-to-date!\n"
     ]
    }
   ],
   "source": [
    "combined_df,df = datasetCleaning(df)"
   ]
  },
  {
   "cell_type": "markdown",
   "id": "7db50627-458e-4af0-a1fa-a249b4d27854",
   "metadata": {},
   "source": [
    "### Dataset Splitting"
   ]
  },
  {
   "cell_type": "code",
   "execution_count": 24,
   "id": "3ae0730d-4b13-47d9-afb7-e07873633fda",
   "metadata": {},
   "outputs": [],
   "source": [
    "from sklearn.model_selection import train_test_split"
   ]
  },
  {
   "cell_type": "code",
   "execution_count": 25,
   "id": "60f79cfc-8d62-43bb-8d58-0edf042e3ed6",
   "metadata": {},
   "outputs": [],
   "source": [
    "def performdatasplit(x,y,combined_df,df):\n",
    "    X_train,X_test,y_train,y_test = train_test_split(combined_df[\"tidy_tweet\"],combined_df[\"label\"],test_size=x,random_state=y)\n",
    "    print(f\"Number of rows in the total dataset: {combined_df.shape[0]}\")\n",
    "    print(f\"Number of rows in the train dataset: {X_train.shape[0]}\")\n",
    "    print(f\"Number of rows in the test dataset: {X_test.shape[0]}\")\n",
    "\n",
    "    files = open(\"stopwords.txt\",\"r\")\n",
    "    content = files.read()\n",
    "    content_list = content.split(\"\\n\")\n",
    "    files.close()\n",
    "\n",
    "    tfidvector = TfidfVectorizer(stop_words = content_list,lowercase = True)\n",
    "    training_data=tfidvector.fit_transform(X_train.values.astype('U'))\n",
    "    testing_data=tfidvector.transform(X_test.values.astype('U'))\n",
    "    filename='tfidfvectorizer.pkl'\n",
    "    pickle.dump(tfidvector.vocabulary_,open(filename,'wb'))\n",
    "\n",
    "    return X_train,X_test,y_train,y_test,testing_data,filename,training_data,content_list\n",
    "    "
   ]
  },
  {
   "cell_type": "code",
   "execution_count": 26,
   "id": "6e1ef1bd-4c07-4ab2-9867-281e764a479c",
   "metadata": {},
   "outputs": [
    {
     "name": "stdout",
     "output_type": "stream",
     "text": [
      "Number of rows in the total dataset: 36296\n",
      "Number of rows in the train dataset: 29036\n",
      "Number of rows in the test dataset: 7260\n"
     ]
    },
    {
     "name": "stderr",
     "output_type": "stream",
     "text": [
      "C:\\Users\\Shrinivass\\anaconda3\\Lib\\site-packages\\sklearn\\feature_extraction\\text.py:408: UserWarning: Your stop_words may be inconsistent with your preprocessing. Tokenizing the stop words generated tokens ['ninad'] not in stop_words.\n",
      "  warnings.warn(\n"
     ]
    }
   ],
   "source": [
    "X_train,X_test,y_train,y_test,testing_data,filename,training_data,content_list = performdatasplit(0.2,42,combined_df,df)"
   ]
  },
  {
   "cell_type": "markdown",
   "id": "62222a9f-41ed-4b27-a089-d23ada94e166",
   "metadata": {},
   "source": [
    "### Applying Machine learning algorithm"
   ]
  },
  {
   "cell_type": "code",
   "execution_count": 28,
   "id": "7ba52ce7-e317-4a4b-8f5d-eab4ba477ecd",
   "metadata": {},
   "outputs": [],
   "source": [
    "import xgboost as xgb\n",
    "from sklearn.naive_bayes import MultinomialNB\n",
    "from sklearn.tree import DecisionTreeClassifier\n",
    "from sklearn.svm import LinearSVC\n",
    "from sklearn.ensemble import AdaBoostClassifier,RandomForestClassifier,BaggingClassifier\n",
    "from sklearn.linear_model import LogisticRegression,SGDClassifier\n",
    "from sklearn.neighbors import KNeighborsClassifier"
   ]
  },
  {
   "cell_type": "code",
   "execution_count": 29,
   "id": "c4209aa4-bf50-4201-b236-edbfaaafcfbc",
   "metadata": {},
   "outputs": [],
   "source": [
    "def pipeline(X_train,y_train,X_test,y_test):\n",
    "    MODELS = [LinearSVC(),LogisticRegression(),MultinomialNB(),DecisionTreeClassifier(), AdaBoostClassifier(),BaggingClassifier(),SGDClassifier()]\n",
    "    size = len(y_train)\n",
    "    results = {}\n",
    "    final_result = []\n",
    "    for model in MODELS:\n",
    "        results[\"Algorithm\"] = model.__class__.__name__\n",
    "        start = time()\n",
    "        print(f\"Training Time : {model.__class__.__name__}\")\n",
    "        model.fit(X_train,y_train)\n",
    "        end = time()\n",
    "\n",
    "        filename = model.__class__.__name__+\".pkl\"\n",
    "        pickle.dump(model,open(filename,\"wb\"))\n",
    "        results[\"Training Time\"] = end - start\n",
    "        start = time()\n",
    "        prediction_test = model.predict(X_test)\n",
    "        prediction_train =model.predict(X_train)\n",
    "        end = time()\n",
    "\n",
    "        results[\"Prediction Time\"] = end - start\n",
    "        \n",
    "        results[\"Accuracy : Test\"] = accuracy_score(y_test,prediction_test)\n",
    "        results[\"Accuracy : Train\"] = accuracy_score(y_train,prediction_train)\n",
    "\n",
    "        results[\"F1_score : Test\"] = f1_score(y_test,prediction_test)\n",
    "        results[\"F1_score : Train\"] = f1_score(y_train,prediction_train)\n",
    "\n",
    "        results[\"Precision : Test\"] = precision_score(y_test,prediction_test)\n",
    "        results[\"Precision : Train\"] = precision_score(y_train,prediction_train)\n",
    "\n",
    "        results[\"Recall : Test\"] = recall_score(y_test,prediction_test)\n",
    "        results[\"Recall : Train\"] = recall_score(y_train,prediction_train)\n",
    "\n",
    "        print(f\"Training {model.__class__.__name__} finished in {results['Training Time']} sec\")\n",
    "\n",
    "        final_result.append(results.copy())\n",
    "    return final_result\n",
    "        "
   ]
  },
  {
   "cell_type": "code",
   "execution_count": 30,
   "id": "6bbf39d3-3a36-45b2-b8c3-b5b35be71d09",
   "metadata": {},
   "outputs": [
    {
     "name": "stdout",
     "output_type": "stream",
     "text": [
      "Training Time : LinearSVC\n"
     ]
    },
    {
     "name": "stderr",
     "output_type": "stream",
     "text": [
      "C:\\Users\\Shrinivass\\anaconda3\\Lib\\site-packages\\sklearn\\svm\\_classes.py:31: FutureWarning: The default value of `dual` will change from `True` to `'auto'` in 1.5. Set the value of `dual` explicitly to suppress the warning.\n",
      "  warnings.warn(\n"
     ]
    },
    {
     "name": "stdout",
     "output_type": "stream",
     "text": [
      "Training LinearSVC finished in 0.4837019443511963 sec\n",
      "Training Time : LogisticRegression\n",
      "Training LogisticRegression finished in 0.5468251705169678 sec\n",
      "Training Time : MultinomialNB\n",
      "Training MultinomialNB finished in 0.0 sec\n",
      "Training Time : DecisionTreeClassifier\n",
      "Training DecisionTreeClassifier finished in 8.428186178207397 sec\n",
      "Training Time : AdaBoostClassifier\n"
     ]
    },
    {
     "name": "stderr",
     "output_type": "stream",
     "text": [
      "C:\\Users\\Shrinivass\\anaconda3\\Lib\\site-packages\\sklearn\\ensemble\\_weight_boosting.py:519: FutureWarning: The SAMME.R algorithm (the default) is deprecated and will be removed in 1.6. Use the SAMME algorithm to circumvent this warning.\n",
      "  warnings.warn(\n"
     ]
    },
    {
     "name": "stdout",
     "output_type": "stream",
     "text": [
      "Training AdaBoostClassifier finished in 6.288440465927124 sec\n",
      "Training Time : BaggingClassifier\n",
      "Training BaggingClassifier finished in 72.92751932144165 sec\n",
      "Training Time : SGDClassifier\n",
      "Training SGDClassifier finished in 0.07852697372436523 sec\n"
     ]
    }
   ],
   "source": [
    "final_result = pipeline(training_data,y_train,testing_data,y_test)"
   ]
  },
  {
   "cell_type": "code",
   "execution_count": 31,
   "id": "92616457-307b-4d73-9643-4ef6647c59c5",
   "metadata": {},
   "outputs": [],
   "source": [
    "def performfinalresult(final_results):\n",
    "    results = pd.DataFrame(final_results)\n",
    "    results.reindex(columns = [\"Algorithm\",\"Accuracy : Test\",\"Precision : Test\",\"Recall : Test\",\"F1_score : Test\",\n",
    "                                \"Prediction Time\",\"Accuracy : Train\",\"Precision : Train\",\"Recall : Train\",\"F1_score : Train\",\"Training Time\"])\n",
    "    results.sort_values(by = \"F1_score : Test\",inplace = True, ascending = False)\n",
    "    return results"
   ]
  },
  {
   "cell_type": "code",
   "execution_count": 32,
   "id": "8cf97bf7-9790-46e6-b001-86d701cce1e3",
   "metadata": {},
   "outputs": [
    {
     "data": {
      "text/html": [
       "<div>\n",
       "<style scoped>\n",
       "    .dataframe tbody tr th:only-of-type {\n",
       "        vertical-align: middle;\n",
       "    }\n",
       "\n",
       "    .dataframe tbody tr th {\n",
       "        vertical-align: top;\n",
       "    }\n",
       "\n",
       "    .dataframe thead th {\n",
       "        text-align: right;\n",
       "    }\n",
       "</style>\n",
       "<table border=\"1\" class=\"dataframe\">\n",
       "  <thead>\n",
       "    <tr style=\"text-align: right;\">\n",
       "      <th></th>\n",
       "      <th>Algorithm</th>\n",
       "      <th>Training Time</th>\n",
       "      <th>Prediction Time</th>\n",
       "      <th>Accuracy : Test</th>\n",
       "      <th>Accuracy : Train</th>\n",
       "      <th>F1_score : Test</th>\n",
       "      <th>F1_score : Train</th>\n",
       "      <th>Precision : Test</th>\n",
       "      <th>Precision : Train</th>\n",
       "      <th>Recall : Test</th>\n",
       "      <th>Recall : Train</th>\n",
       "    </tr>\n",
       "  </thead>\n",
       "  <tbody>\n",
       "    <tr>\n",
       "      <th>0</th>\n",
       "      <td>DecisionTreeClassifier</td>\n",
       "      <td>8.428186</td>\n",
       "      <td>0.043048</td>\n",
       "      <td>0.974380</td>\n",
       "      <td>0.996832</td>\n",
       "      <td>0.980330</td>\n",
       "      <td>0.997534</td>\n",
       "      <td>0.973126</td>\n",
       "      <td>0.996146</td>\n",
       "      <td>0.987641</td>\n",
       "      <td>0.998926</td>\n",
       "    </tr>\n",
       "    <tr>\n",
       "      <th>1</th>\n",
       "      <td>BaggingClassifier</td>\n",
       "      <td>72.927519</td>\n",
       "      <td>0.548894</td>\n",
       "      <td>0.968320</td>\n",
       "      <td>0.994558</td>\n",
       "      <td>0.975532</td>\n",
       "      <td>0.995762</td>\n",
       "      <td>0.974081</td>\n",
       "      <td>0.995068</td>\n",
       "      <td>0.976987</td>\n",
       "      <td>0.996457</td>\n",
       "    </tr>\n",
       "    <tr>\n",
       "      <th>2</th>\n",
       "      <td>LinearSVC</td>\n",
       "      <td>0.483702</td>\n",
       "      <td>0.000000</td>\n",
       "      <td>0.964463</td>\n",
       "      <td>0.989048</td>\n",
       "      <td>0.972483</td>\n",
       "      <td>0.991459</td>\n",
       "      <td>0.973521</td>\n",
       "      <td>0.992152</td>\n",
       "      <td>0.971447</td>\n",
       "      <td>0.990767</td>\n",
       "    </tr>\n",
       "    <tr>\n",
       "      <th>3</th>\n",
       "      <td>LogisticRegression</td>\n",
       "      <td>0.546825</td>\n",
       "      <td>0.000000</td>\n",
       "      <td>0.937328</td>\n",
       "      <td>0.961737</td>\n",
       "      <td>0.951280</td>\n",
       "      <td>0.970108</td>\n",
       "      <td>0.956091</td>\n",
       "      <td>0.972489</td>\n",
       "      <td>0.946516</td>\n",
       "      <td>0.967738</td>\n",
       "    </tr>\n",
       "    <tr>\n",
       "      <th>4</th>\n",
       "      <td>SGDClassifier</td>\n",
       "      <td>0.078527</td>\n",
       "      <td>0.000000</td>\n",
       "      <td>0.935675</td>\n",
       "      <td>0.958087</td>\n",
       "      <td>0.949725</td>\n",
       "      <td>0.967136</td>\n",
       "      <td>0.959748</td>\n",
       "      <td>0.973101</td>\n",
       "      <td>0.939911</td>\n",
       "      <td>0.961243</td>\n",
       "    </tr>\n",
       "    <tr>\n",
       "      <th>5</th>\n",
       "      <td>MultinomialNB</td>\n",
       "      <td>0.000000</td>\n",
       "      <td>0.015721</td>\n",
       "      <td>0.899174</td>\n",
       "      <td>0.927676</td>\n",
       "      <td>0.925428</td>\n",
       "      <td>0.945438</td>\n",
       "      <td>0.886590</td>\n",
       "      <td>0.916159</td>\n",
       "      <td>0.967824</td>\n",
       "      <td>0.976649</td>\n",
       "    </tr>\n",
       "    <tr>\n",
       "      <th>6</th>\n",
       "      <td>AdaBoostClassifier</td>\n",
       "      <td>6.288440</td>\n",
       "      <td>1.526706</td>\n",
       "      <td>0.840909</td>\n",
       "      <td>0.841955</td>\n",
       "      <td>0.863749</td>\n",
       "      <td>0.863402</td>\n",
       "      <td>0.967495</td>\n",
       "      <td>0.969063</td>\n",
       "      <td>0.780098</td>\n",
       "      <td>0.778517</td>\n",
       "    </tr>\n",
       "  </tbody>\n",
       "</table>\n",
       "</div>"
      ],
      "text/plain": [
       "                Algorithm  Training Time  Prediction Time  Accuracy : Test  \\\n",
       "0  DecisionTreeClassifier       8.428186         0.043048         0.974380   \n",
       "1       BaggingClassifier      72.927519         0.548894         0.968320   \n",
       "2               LinearSVC       0.483702         0.000000         0.964463   \n",
       "3      LogisticRegression       0.546825         0.000000         0.937328   \n",
       "4           SGDClassifier       0.078527         0.000000         0.935675   \n",
       "5           MultinomialNB       0.000000         0.015721         0.899174   \n",
       "6      AdaBoostClassifier       6.288440         1.526706         0.840909   \n",
       "\n",
       "   Accuracy : Train  F1_score : Test  F1_score : Train  Precision : Test  \\\n",
       "0          0.996832         0.980330          0.997534          0.973126   \n",
       "1          0.994558         0.975532          0.995762          0.974081   \n",
       "2          0.989048         0.972483          0.991459          0.973521   \n",
       "3          0.961737         0.951280          0.970108          0.956091   \n",
       "4          0.958087         0.949725          0.967136          0.959748   \n",
       "5          0.927676         0.925428          0.945438          0.886590   \n",
       "6          0.841955         0.863749          0.863402          0.967495   \n",
       "\n",
       "   Precision : Train  Recall : Test  Recall : Train  \n",
       "0           0.996146       0.987641        0.998926  \n",
       "1           0.995068       0.976987        0.996457  \n",
       "2           0.992152       0.971447        0.990767  \n",
       "3           0.972489       0.946516        0.967738  \n",
       "4           0.973101       0.939911        0.961243  \n",
       "5           0.916159       0.967824        0.976649  \n",
       "6           0.969063       0.780098        0.778517  "
      ]
     },
     "execution_count": 32,
     "metadata": {},
     "output_type": "execute_result"
    }
   ],
   "source": [
    "results = performfinalresult(final_result)\n",
    "results.reset_index(drop=True)"
   ]
  },
  {
   "cell_type": "code",
   "execution_count": 33,
   "id": "bbda9e1d-6258-4c84-9ffe-dbfe739d465b",
   "metadata": {},
   "outputs": [
    {
     "data": {
      "text/html": [
       "<div>\n",
       "<style scoped>\n",
       "    .dataframe tbody tr th:only-of-type {\n",
       "        vertical-align: middle;\n",
       "    }\n",
       "\n",
       "    .dataframe tbody tr th {\n",
       "        vertical-align: top;\n",
       "    }\n",
       "\n",
       "    .dataframe thead th {\n",
       "        text-align: right;\n",
       "    }\n",
       "</style>\n",
       "<table border=\"1\" class=\"dataframe\">\n",
       "  <thead>\n",
       "    <tr style=\"text-align: right;\">\n",
       "      <th></th>\n",
       "      <th>Training Time</th>\n",
       "      <th>Prediction Time</th>\n",
       "      <th>Accuracy : Test</th>\n",
       "      <th>Accuracy : Train</th>\n",
       "      <th>F1_score : Test</th>\n",
       "      <th>F1_score : Train</th>\n",
       "      <th>Precision : Test</th>\n",
       "      <th>Precision : Train</th>\n",
       "      <th>Recall : Test</th>\n",
       "      <th>Recall : Train</th>\n",
       "    </tr>\n",
       "  </thead>\n",
       "  <tbody>\n",
       "    <tr>\n",
       "      <th>min</th>\n",
       "      <td>0.000000</td>\n",
       "      <td>0.000000</td>\n",
       "      <td>0.840909</td>\n",
       "      <td>0.841955</td>\n",
       "      <td>0.863749</td>\n",
       "      <td>0.863402</td>\n",
       "      <td>0.886590</td>\n",
       "      <td>0.916159</td>\n",
       "      <td>0.780098</td>\n",
       "      <td>0.778517</td>\n",
       "    </tr>\n",
       "    <tr>\n",
       "      <th>max</th>\n",
       "      <td>72.927519</td>\n",
       "      <td>1.526706</td>\n",
       "      <td>0.974380</td>\n",
       "      <td>0.996832</td>\n",
       "      <td>0.980330</td>\n",
       "      <td>0.997534</td>\n",
       "      <td>0.974081</td>\n",
       "      <td>0.996146</td>\n",
       "      <td>0.987641</td>\n",
       "      <td>0.998926</td>\n",
       "    </tr>\n",
       "  </tbody>\n",
       "</table>\n",
       "</div>"
      ],
      "text/plain": [
       "     Training Time  Prediction Time  Accuracy : Test  Accuracy : Train  \\\n",
       "min       0.000000         0.000000         0.840909          0.841955   \n",
       "max      72.927519         1.526706         0.974380          0.996832   \n",
       "\n",
       "     F1_score : Test  F1_score : Train  Precision : Test  Precision : Train  \\\n",
       "min         0.863749          0.863402          0.886590           0.916159   \n",
       "max         0.980330          0.997534          0.974081           0.996146   \n",
       "\n",
       "     Recall : Test  Recall : Train  \n",
       "min       0.780098        0.778517  \n",
       "max       0.987641        0.998926  "
      ]
     },
     "execution_count": 33,
     "metadata": {},
     "output_type": "execute_result"
    }
   ],
   "source": [
    "results.describe().loc[['min','max'], :]"
   ]
  },
  {
   "cell_type": "markdown",
   "id": "f2453d72-e012-49b3-a50d-93b9e455dce1",
   "metadata": {},
   "source": [
    "### Summary in Graph"
   ]
  },
  {
   "cell_type": "code",
   "execution_count": 35,
   "id": "1e15ac9c-60da-4b1d-b4fd-53f8108e1131",
   "metadata": {},
   "outputs": [
    {
     "data": {
      "image/png": "[encoded data removed]",
      "text/plain": [
       "<Figure size 1500x600 with 1 Axes>"
      ]
     },
     "metadata": {},
     "output_type": "display_data"
    }
   ],
   "source": [
    "best_acc = results[results['Accuracy : Test'] == results['Accuracy : Test'].max()]\n",
    "best_f1 = results[results['F1_score : Test'] == results['F1_score : Test'].max()]\n",
    "best_precision = results[results['Precision : Test'] == results['Precision : Test'].max()]\n",
    "best_recall = results[results['Recall : Test'] == results['Recall : Test'].max()]\n",
    "\n",
    "sns.set_style('darkgrid')\n",
    "plt.figure(figsize = (15, 6))\n",
    "\n",
    "barWidth = 0.17\n",
    " \n",
    "# set height of bar\n",
    "bars1 = results['Accuracy : Test']\n",
    "bars2 = results['F1_score : Test']\n",
    "\n",
    "# Set position of bar on X axis\n",
    "r1 = np.arange(len(bars1))\n",
    "r2 = [x + barWidth for x in r1]\n",
    "\n",
    "# Make the plot\n",
    "pal = sns.color_palette()\n",
    "plt.bar(r1, bars1, color= pal[0], width=barWidth, edgecolor='white', label='Test Accuracy')\n",
    "plt.bar(r2, bars2, color= pal[1], width=barWidth, edgecolor='white', label='Test F1 Score')\n",
    "\n",
    "# Add xticks on the middle of the group bars\n",
    "plt.xlabel('Algorithm', fontweight='bold', fontsize = 13)\n",
    "plt.ylabel('Score', fontweight = 'bold', fontsize = 13)\n",
    "plt.xticks([r + barWidth for r in range(len(bars1))], results['Algorithm'], rotation = 15, fontsize = 11)\n",
    " \n",
    "# Create legend & Show graphic\n",
    "plt.legend(fontsize = 13)\n",
    "\n",
    "textstr = '\\n'.join(['Best Accuracy: {:.3f} - {}'.format(best_acc['Accuracy : Test'].values[0], best_acc['Algorithm'].values[0]), \n",
    "                     'Best F1 Score: {:.3f} - {}'.format(best_f1['F1_score : Test'].values[0], best_f1['Algorithm'].values[0])])\n",
    "props = dict(boxstyle='round', facecolor='lightgrey', alpha=0.5)\n",
    "\n",
    "plt.title('Classification Summary of Algorithms', fontweight = 'bold', fontsize = 17);"
   ]
  },
  {
   "cell_type": "markdown",
   "id": "1b28c29b-8ec3-4f50-b7e4-a4b447fc6802",
   "metadata": {},
   "source": [
    "### Training and prediction time of algorithm"
   ]
  },
  {
   "cell_type": "code",
   "execution_count": 37,
   "id": "51414a2e-da1b-4842-be0a-512688e23f1f",
   "metadata": {},
   "outputs": [
    {
     "data": {
      "text/plain": [
       "Text(0.5, 1.0, 'Training and Prediction time of Algorithms')"
      ]
     },
     "execution_count": 37,
     "metadata": {},
     "output_type": "execute_result"
    },
    {
     "data": {
      "image/png": "[encoded data removed]",
      "text/plain": [
       "<Figure size 1200x700 with 1 Axes>"
      ]
     },
     "metadata": {},
     "output_type": "display_data"
    }
   ],
   "source": [
    "\n",
    "best_train_time = results[results['Training Time'] == results['Training Time'].min()]\n",
    "worst_train_time = results[results['Training Time'] == results['Training Time'].max()]\n",
    "best_prediction_time = results[results['Prediction Time'] == results['Prediction Time'].min()]\n",
    "worst_prediction_time = results[results['Prediction Time'] == results['Prediction Time'].max()]\n",
    "\n",
    "plt.figure(figsize = (12, 7))\n",
    "\n",
    "barWidth = 0.17\n",
    " \n",
    "# set height of bar\n",
    "bars1 = results['Training Time']\n",
    "bars2 = results['Prediction Time']\n",
    " \n",
    "# Set position of bar on X axis\n",
    "r1 = np.arange(len(bars1))\n",
    "r2 = [x + barWidth for x in r1]\n",
    " \n",
    "# Make the plot\n",
    "plt.bar(r1, bars1, color= pal[0], width=barWidth, edgecolor='white', label='Training Time')\n",
    "plt.bar(r2, bars2, color= pal[1], width=barWidth, edgecolor='white', label='Prediction Time')\n",
    " \n",
    "# Add xticks on the middle of the group bars\n",
    "plt.xlabel('Algorithm', fontweight='bold', fontsize = 13)\n",
    "plt.ylabel('Time (seconds)', fontweight = 'bold', fontsize = 13)\n",
    "plt.xticks([r + barWidth for r in range(len(bars1))], results['Algorithm'], rotation = 15, fontsize = 11)\n",
    "\n",
    "\n",
    "textstr = '\\n'.join(('Best Training Time: {:.3f} - {}'.format(best_train_time['Training Time'].values[0], best_train_time['Algorithm'].values[0]), \n",
    "                     'Worst Training Time: {:.3f} - {}'.format(worst_train_time['Training Time'].values[0], worst_train_time['Algorithm'].values[0]),\n",
    "                   'Best Prediction Time: {:.3f} - {}'.format(best_prediction_time['Training Time'].values[0], best_prediction_time['Algorithm'].values[0]), \n",
    "                    'Worst Prediction Time: {:.3f} - {}'.format(worst_prediction_time['Training Time'].values[0], worst_prediction_time['Algorithm'].values[0])))\n",
    "props = dict(boxstyle='round', facecolor='lightgrey', alpha=0.5)\n",
    "\n",
    "#place a text box\n",
    "plt.text(3.2, 12, textstr, fontsize=14,  bbox=props) \n",
    "\n",
    "# Create legend & Show graphic\n",
    "plt.legend(fontsize = 13)\n",
    "plt.title('Training and Prediction time of Algorithms', fontweight = 'bold', fontsize = 17)"
   ]
  },
  {
   "cell_type": "code",
   "execution_count": 38,
   "id": "127de292-2cc3-4781-b5e7-7420a4c3984a",
   "metadata": {},
   "outputs": [
    {
     "data": {
      "text/html": [
       "<div>\n",
       "<style scoped>\n",
       "    .dataframe tbody tr th:only-of-type {\n",
       "        vertical-align: middle;\n",
       "    }\n",
       "\n",
       "    .dataframe tbody tr th {\n",
       "        vertical-align: top;\n",
       "    }\n",
       "\n",
       "    .dataframe thead th {\n",
       "        text-align: right;\n",
       "    }\n",
       "</style>\n",
       "<table border=\"1\" class=\"dataframe\">\n",
       "  <thead>\n",
       "    <tr style=\"text-align: right;\">\n",
       "      <th></th>\n",
       "      <th>headline</th>\n",
       "      <th>label</th>\n",
       "      <th>length_headline</th>\n",
       "    </tr>\n",
       "  </thead>\n",
       "  <tbody>\n",
       "    <tr>\n",
       "      <th>0</th>\n",
       "      <td>cock  suck before you piss around on my work</td>\n",
       "      <td>1</td>\n",
       "      <td>44</td>\n",
       "    </tr>\n",
       "    <tr>\n",
       "      <th>1</th>\n",
       "      <td>you are  gay or antisemmitian archangel white ...</td>\n",
       "      <td>1</td>\n",
       "      <td>624</td>\n",
       "    </tr>\n",
       "    <tr>\n",
       "      <th>2</th>\n",
       "      <td>fuck your filthy mother in the ass  dry</td>\n",
       "      <td>1</td>\n",
       "      <td>39</td>\n",
       "    </tr>\n",
       "    <tr>\n",
       "      <th>3</th>\n",
       "      <td>get fuck  ed up  get fuck  ed up got a drink t...</td>\n",
       "      <td>1</td>\n",
       "      <td>121</td>\n",
       "    </tr>\n",
       "    <tr>\n",
       "      <th>4</th>\n",
       "      <td>stupid peace of  shit  stop deleting my stuff ...</td>\n",
       "      <td>1</td>\n",
       "      <td>93</td>\n",
       "    </tr>\n",
       "  </tbody>\n",
       "</table>\n",
       "</div>"
      ],
      "text/plain": [
       "                                            headline  label  length_headline\n",
       "0       cock  suck before you piss around on my work      1               44\n",
       "1  you are  gay or antisemmitian archangel white ...      1              624\n",
       "2            fuck your filthy mother in the ass  dry      1               39\n",
       "3  get fuck  ed up  get fuck  ed up got a drink t...      1              121\n",
       "4  stupid peace of  shit  stop deleting my stuff ...      1               93"
      ]
     },
     "execution_count": 38,
     "metadata": {},
     "output_type": "execute_result"
    }
   ],
   "source": [
    "df.head()"
   ]
  },
  {
   "cell_type": "code",
   "execution_count": 76,
   "id": "783f6c26-00ab-4591-a309-6dffdb09f664",
   "metadata": {},
   "outputs": [
    {
     "name": "stdout",
     "output_type": "stream",
     "text": [
      "[0]\n",
      "non-bullying\n"
     ]
    },
    {
     "name": "stderr",
     "output_type": "stream",
     "text": [
      "C:\\Users\\Shrinivass\\anaconda3\\Lib\\site-packages\\sklearn\\feature_extraction\\text.py:408: UserWarning: Your stop_words may be inconsistent with your preprocessing. Tokenizing the stop words generated tokens ['ninad'] not in stop_words.\n",
      "  warnings.warn(\n"
     ]
    }
   ],
   "source": [
    "data = [\"hello\"]\n",
    "\n",
    "tfidf_vector = TfidfVectorizer(stop_words=content_list, lowercase=True, vocabulary=pickle.load(open(\"tfidfvectorizer.pkl\", \"rb\")))\n",
    "preprocessed_data = tfidf_vector.fit_transform(data)\n",
    "\n",
    "trained_model = pickle.load(open('LinearSVC.pkl', 'rb'))\n",
    "print(trained_model.predict(preprocessed_data))\n",
    "\n",
    "if(trained_model.predict(preprocessed_data)==1):\n",
    "    print(\"bullying\")\n",
    "else:\n",
    "    print(\"non-bullying\")"
   ]
  },
  {
   "cell_type": "markdown",
   "id": "591087af-2cc0-414d-afa8-504cfc8623d3",
   "metadata": {},
   "source": [
    "### Fine Tuning"
   ]
  },
  {
   "cell_type": "code",
   "execution_count": 41,
   "id": "de3d98c0-386d-4e1d-97f2-175475a2b2c5",
   "metadata": {},
   "outputs": [],
   "source": [
    "from sklearn.model_selection import GridSearchCV\n",
    "\n",
    "def tuining(clf, param_dict, X_train, y_train, X_test, y_test):\n",
    "    scorer = make_scorer(f1_score)\n",
    "    \n",
    "    grid_obj = GridSearchCV(estimator=clf, param_grid=param_dict, scoring=scorer, cv=5)\n",
    "    \n",
    "    grid_fit = grid_obj.fit(X_train, y_train)\n",
    "    \n",
    "    best_clf = grid_fit.best_estimator_\n",
    "    \n",
    "    prediction = (clf.fit(X_train, y_train)).predict(X_test)\n",
    "    \n",
    "    best_prediction = best_clf.predict(X_test)\n",
    "    \n",
    "    print(clf.__class__.__name__)\n",
    "    print(f\"Best Parameter:  {grid_fit.best_params_}\")\n",
    "    \n",
    "    print(f\"Accuracy:  {accuracy_score(y_test, best_prediction)}\")\n",
    "\n",
    "    print(f\"F1 Score :  {f1_score(y_test, best_prediction)}\")\n",
    "    \n",
    "    print(f\"Precision :  {precision_score(y_test, best_prediction)}\")\n",
    "    \n",
    "    print(f\"Recall:  {recall_score(y_test, best_prediction)}\")"
   ]
  },
  {
   "cell_type": "code",
   "execution_count": 42,
   "id": "808220e0-9a78-43e0-8e8f-2f41425e5292",
   "metadata": {},
   "outputs": [
    {
     "name": "stderr",
     "output_type": "stream",
     "text": [
      "C:\\Users\\Shrinivass\\anaconda3\\Lib\\site-packages\\sklearn\\svm\\_classes.py:31: FutureWarning: The default value of `dual` will change from `True` to `'auto'` in 1.5. Set the value of `dual` explicitly to suppress the warning.\n",
      "  warnings.warn(\n",
      "C:\\Users\\Shrinivass\\anaconda3\\Lib\\site-packages\\sklearn\\svm\\_classes.py:31: FutureWarning: The default value of `dual` will change from `True` to `'auto'` in 1.5. Set the value of `dual` explicitly to suppress the warning.\n",
      "  warnings.warn(\n",
      "C:\\Users\\Shrinivass\\anaconda3\\Lib\\site-packages\\sklearn\\svm\\_classes.py:31: FutureWarning: The default value of `dual` will change from `True` to `'auto'` in 1.5. Set the value of `dual` explicitly to suppress the warning.\n",
      "  warnings.warn(\n",
      "C:\\Users\\Shrinivass\\anaconda3\\Lib\\site-packages\\sklearn\\svm\\_classes.py:31: FutureWarning: The default value of `dual` will change from `True` to `'auto'` in 1.5. Set the value of `dual` explicitly to suppress the warning.\n",
      "  warnings.warn(\n",
      "C:\\Users\\Shrinivass\\anaconda3\\Lib\\site-packages\\sklearn\\svm\\_classes.py:31: FutureWarning: The default value of `dual` will change from `True` to `'auto'` in 1.5. Set the value of `dual` explicitly to suppress the warning.\n",
      "  warnings.warn(\n",
      "C:\\Users\\Shrinivass\\anaconda3\\Lib\\site-packages\\sklearn\\svm\\_classes.py:31: FutureWarning: The default value of `dual` will change from `True` to `'auto'` in 1.5. Set the value of `dual` explicitly to suppress the warning.\n",
      "  warnings.warn(\n",
      "C:\\Users\\Shrinivass\\anaconda3\\Lib\\site-packages\\sklearn\\svm\\_classes.py:31: FutureWarning: The default value of `dual` will change from `True` to `'auto'` in 1.5. Set the value of `dual` explicitly to suppress the warning.\n",
      "  warnings.warn(\n",
      "C:\\Users\\Shrinivass\\anaconda3\\Lib\\site-packages\\sklearn\\svm\\_classes.py:31: FutureWarning: The default value of `dual` will change from `True` to `'auto'` in 1.5. Set the value of `dual` explicitly to suppress the warning.\n",
      "  warnings.warn(\n",
      "C:\\Users\\Shrinivass\\anaconda3\\Lib\\site-packages\\sklearn\\svm\\_classes.py:31: FutureWarning: The default value of `dual` will change from `True` to `'auto'` in 1.5. Set the value of `dual` explicitly to suppress the warning.\n",
      "  warnings.warn(\n",
      "C:\\Users\\Shrinivass\\anaconda3\\Lib\\site-packages\\sklearn\\svm\\_classes.py:31: FutureWarning: The default value of `dual` will change from `True` to `'auto'` in 1.5. Set the value of `dual` explicitly to suppress the warning.\n",
      "  warnings.warn(\n",
      "C:\\Users\\Shrinivass\\anaconda3\\Lib\\site-packages\\sklearn\\svm\\_classes.py:31: FutureWarning: The default value of `dual` will change from `True` to `'auto'` in 1.5. Set the value of `dual` explicitly to suppress the warning.\n",
      "  warnings.warn(\n",
      "C:\\Users\\Shrinivass\\anaconda3\\Lib\\site-packages\\sklearn\\svm\\_classes.py:31: FutureWarning: The default value of `dual` will change from `True` to `'auto'` in 1.5. Set the value of `dual` explicitly to suppress the warning.\n",
      "  warnings.warn(\n",
      "C:\\Users\\Shrinivass\\anaconda3\\Lib\\site-packages\\sklearn\\svm\\_classes.py:31: FutureWarning: The default value of `dual` will change from `True` to `'auto'` in 1.5. Set the value of `dual` explicitly to suppress the warning.\n",
      "  warnings.warn(\n",
      "C:\\Users\\Shrinivass\\anaconda3\\Lib\\site-packages\\sklearn\\svm\\_classes.py:31: FutureWarning: The default value of `dual` will change from `True` to `'auto'` in 1.5. Set the value of `dual` explicitly to suppress the warning.\n",
      "  warnings.warn(\n",
      "C:\\Users\\Shrinivass\\anaconda3\\Lib\\site-packages\\sklearn\\svm\\_classes.py:31: FutureWarning: The default value of `dual` will change from `True` to `'auto'` in 1.5. Set the value of `dual` explicitly to suppress the warning.\n",
      "  warnings.warn(\n",
      "C:\\Users\\Shrinivass\\anaconda3\\Lib\\site-packages\\sklearn\\svm\\_classes.py:31: FutureWarning: The default value of `dual` will change from `True` to `'auto'` in 1.5. Set the value of `dual` explicitly to suppress the warning.\n",
      "  warnings.warn(\n",
      "C:\\Users\\Shrinivass\\anaconda3\\Lib\\site-packages\\sklearn\\svm\\_classes.py:31: FutureWarning: The default value of `dual` will change from `True` to `'auto'` in 1.5. Set the value of `dual` explicitly to suppress the warning.\n",
      "  warnings.warn(\n",
      "C:\\Users\\Shrinivass\\anaconda3\\Lib\\site-packages\\sklearn\\svm\\_classes.py:31: FutureWarning: The default value of `dual` will change from `True` to `'auto'` in 1.5. Set the value of `dual` explicitly to suppress the warning.\n",
      "  warnings.warn(\n",
      "C:\\Users\\Shrinivass\\anaconda3\\Lib\\site-packages\\sklearn\\svm\\_classes.py:31: FutureWarning: The default value of `dual` will change from `True` to `'auto'` in 1.5. Set the value of `dual` explicitly to suppress the warning.\n",
      "  warnings.warn(\n",
      "C:\\Users\\Shrinivass\\anaconda3\\Lib\\site-packages\\sklearn\\svm\\_classes.py:31: FutureWarning: The default value of `dual` will change from `True` to `'auto'` in 1.5. Set the value of `dual` explicitly to suppress the warning.\n",
      "  warnings.warn(\n",
      "C:\\Users\\Shrinivass\\anaconda3\\Lib\\site-packages\\sklearn\\svm\\_classes.py:31: FutureWarning: The default value of `dual` will change from `True` to `'auto'` in 1.5. Set the value of `dual` explicitly to suppress the warning.\n",
      "  warnings.warn(\n",
      "C:\\Users\\Shrinivass\\anaconda3\\Lib\\site-packages\\sklearn\\svm\\_classes.py:31: FutureWarning: The default value of `dual` will change from `True` to `'auto'` in 1.5. Set the value of `dual` explicitly to suppress the warning.\n",
      "  warnings.warn(\n",
      "C:\\Users\\Shrinivass\\anaconda3\\Lib\\site-packages\\sklearn\\svm\\_classes.py:31: FutureWarning: The default value of `dual` will change from `True` to `'auto'` in 1.5. Set the value of `dual` explicitly to suppress the warning.\n",
      "  warnings.warn(\n",
      "C:\\Users\\Shrinivass\\anaconda3\\Lib\\site-packages\\sklearn\\svm\\_classes.py:31: FutureWarning: The default value of `dual` will change from `True` to `'auto'` in 1.5. Set the value of `dual` explicitly to suppress the warning.\n",
      "  warnings.warn(\n",
      "C:\\Users\\Shrinivass\\anaconda3\\Lib\\site-packages\\sklearn\\svm\\_classes.py:31: FutureWarning: The default value of `dual` will change from `True` to `'auto'` in 1.5. Set the value of `dual` explicitly to suppress the warning.\n",
      "  warnings.warn(\n",
      "C:\\Users\\Shrinivass\\anaconda3\\Lib\\site-packages\\sklearn\\svm\\_classes.py:31: FutureWarning: The default value of `dual` will change from `True` to `'auto'` in 1.5. Set the value of `dual` explicitly to suppress the warning.\n",
      "  warnings.warn(\n",
      "C:\\Users\\Shrinivass\\anaconda3\\Lib\\site-packages\\sklearn\\svm\\_classes.py:31: FutureWarning: The default value of `dual` will change from `True` to `'auto'` in 1.5. Set the value of `dual` explicitly to suppress the warning.\n",
      "  warnings.warn(\n"
     ]
    },
    {
     "name": "stdout",
     "output_type": "stream",
     "text": [
      "LinearSVC\n",
      "Best Parameter:  {'C': 1}\n",
      "Accuracy:  0.9644628099173553\n",
      "F1 Score :  0.9724829351535836\n",
      "Precision :  0.9735212470638479\n",
      "Recall:  0.9714468357127637\n"
     ]
    }
   ],
   "source": [
    "param_grid = {\n",
    "    'C': [0.25, 0.5, 0.75, 1, 1.2]\n",
    "}\n",
    "\n",
    "clf_model = LinearSVC()\n",
    "\n",
    "tuining(clf_model, param_grid, training_data, y_train, testing_data, y_test)"
   ]
  },
  {
   "cell_type": "code",
   "execution_count": 43,
   "id": "6c084173-51e3-4c8e-bdc2-a4dfe6862641",
   "metadata": {},
   "outputs": [],
   "source": [
    "pickle.dump(clf_model, open(\"LinearSVCTuned.pkl\", \"wb\"))"
   ]
  },
  {
   "cell_type": "code",
   "execution_count": null,
   "id": "be5ed12b-521d-434d-909c-ea353c4c9fd9",
   "metadata": {},
   "outputs": [],
   "source": []
  }
 ],
 "metadata": {
  "kernelspec": {
   "display_name": "Python 3 (ipykernel)",
   "language": "python",
   "name": "python3"
  },
  "language_info": {
   "codemirror_mode": {
    "name": "ipython",
    "version": 3
   },
   "file_extension": ".py",
   "mimetype": "text/x-python",
   "name": "python",
   "nbconvert_exporter": "python",
   "pygments_lexer": "ipython3",
   "version": "3.12.4"
  }
 },
 "nbformat": 4,
 "nbformat_minor": 5
}
